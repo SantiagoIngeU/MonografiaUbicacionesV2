{
 "cells": [
  {
   "cell_type": "code",
   "execution_count": null,
   "id": "ca5b22c6",
   "metadata": {},
   "outputs": [
    {
     "name": "stdout",
     "output_type": "stream",
     "text": [
      "<ImagingCore object at 0x7f07dd5f6f70>\n"
     ]
    }
   ],
   "source": [
    "from PIL import Image\n",
    "\n",
    "# Abre la imagen\n",
    "img = Image.open(\"/home/SantiagoInge/Estudios/Especializacion/Monografia/MonografiaUbicaciones/BasesDeDatos/Ubicaciones/Ubicacion_etiquetada02.jpeg\")\n",
    "\n",
    "# Convierte la imagen a RGBA (con canal alfa para transparencia)\n",
    "img = img.convert(\"RGBA\")\n",
    "\n",
    "# Obtén los datos de la imagen\n",
    "data = img.getdata()\n",
    "\n",
    "# Reemplaza el color de los elementos que quieres eliminar (por ejemplo, blanco)\n",
    "new_data = []\n",
    "#for item in data:\n",
    "#    # Cambia los píxeles blancos (255, 255, 255) a transparentes (0, 0, 0, 0)\n",
    "#    if item[:3] == (255, 255, 255):  # Píxel blanco\n",
    "#        new_data.append((0, 0, 0, 0))  # Píxel transparente\n",
    "#    else:\n",
    "#        new_data.append(item)\n",
    "#\n",
    "## Asigna los nuevos datos y guarda la imagen resultante\n",
    "#img.putdata(new_data)\n",
    "#img.save(\"imagen_sin_elementos.png\")\n"
   ]
  }
 ],
 "metadata": {
  "kernelspec": {
   "display_name": ".venv",
   "language": "python",
   "name": "python3"
  },
  "language_info": {
   "codemirror_mode": {
    "name": "ipython",
    "version": 3
   },
   "file_extension": ".py",
   "mimetype": "text/x-python",
   "name": "python",
   "nbconvert_exporter": "python",
   "pygments_lexer": "ipython3",
   "version": "3.12.10"
  }
 },
 "nbformat": 4,
 "nbformat_minor": 5
}
