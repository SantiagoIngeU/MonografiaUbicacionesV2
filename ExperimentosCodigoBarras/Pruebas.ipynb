{
 "cells": [
  {
   "cell_type": "code",
   "execution_count": null,
   "id": "08eee613",
   "metadata": {},
   "outputs": [
    {
     "data": {
      "text/plain": [
       "'hola_mundo.png'"
      ]
     },
     "execution_count": 1,
     "metadata": {},
     "output_type": "execute_result"
    }
   ],
   "source": [
    "import barcode\n",
    "from barcode.writer import ImageWriter\n",
    "\n",
    "# Obtener la clase del tipo de código de barras\n",
    "Code128 = barcode.get_barcode_class('code128')\n",
    "\n",
    "# Crear el código de barras con texto \"Hola Mundo\"\n",
    "codigo = Code128('AL_005_02', writer=ImageWriter())\n",
    "\n",
    "# Guardar el archivo como PNG\n",
    "codigo.save('EstanteA-Izquierda-nivel5-posicion2')\n"
   ]
  },
  {
   "cell_type": "code",
   "execution_count": null,
   "id": "02b7fcd2",
   "metadata": {},
   "outputs": [],
   "source": []
  }
 ],
 "metadata": {
  "kernelspec": {
   "display_name": ".venv",
   "language": "python",
   "name": "python3"
  },
  "language_info": {
   "codemirror_mode": {
    "name": "ipython",
    "version": 3
   },
   "file_extension": ".py",
   "mimetype": "text/x-python",
   "name": "python",
   "nbconvert_exporter": "python",
   "pygments_lexer": "ipython3",
   "version": "3.12.10"
  }
 },
 "nbformat": 4,
 "nbformat_minor": 5
}
