{
 "cells": [
  {
   "cell_type": "markdown",
   "id": "46ba63a1",
   "metadata": {},
   "source": [
    "# Creacion de Codigos de Barras"
   ]
  },
  {
   "cell_type": "code",
   "execution_count": null,
   "id": "08eee613",
   "metadata": {},
   "outputs": [
    {
     "data": {
      "text/plain": [
       "'EstanteA-Derechar-nivel2-posicion1.png'"
      ]
     },
     "execution_count": 3,
     "metadata": {},
     "output_type": "execute_result"
    }
   ],
   "source": [
    "import barcode\n",
    "from barcode.writer import ImageWriter\n",
    "\n",
    "# Obtener la clase del tipo de código de barras\n",
    "Code128 = barcode.get_barcode_class('code128')\n",
    "\n",
    "# Crear el código de barras con texto \n",
    "codigo = Code128('AR_02_01', writer=ImageWriter())\n",
    "\n",
    "# Guardar el archivo como PNG\n",
    "codigo.save('EstanteA-Derechar-nivel2-posicion1')\n"
   ]
  },
  {
   "cell_type": "markdown",
   "id": "23b76145",
   "metadata": {},
   "source": [
    "# Lectura de codigos de Barras\n",
    "##Experimento no concretado"
   ]
  },
  {
   "cell_type": "code",
   "execution_count": null,
   "id": "02b7fcd2",
   "metadata": {},
   "outputs": [],
   "source": [
    "import cv2\n",
    "from pyzbar.pyzbar import decode\n",
    "\n",
    "# Abrir la cámara (usa 0 para la cámara por defecto, cambia si es necesario)\n",
    "cap = cv2.VideoCapture(0)\n",
    "\n",
    "print(\"Escanea un código de barras... Presiona 'q' para salir.\")\n",
    "\n",
    "while True:\n",
    "    ret, frame = cap.read()\n",
    "    if not ret:\n",
    "        break\n",
    "\n",
    "    # Decodificar códigos de barras en el frame\n",
    "    for barcode in decode(frame):\n",
    "        barcode_data = barcode.data.decode('utf-8')\n",
    "        barcode_type = barcode.type\n",
    "        print(f'Detectado [{barcode_type}]: {barcode_data}')\n",
    "\n",
    "        # Dibujar rectángulo y texto en el frame\n",
    "        pts = barcode.polygon\n",
    "        pts = [(pt.x, pt.y) for pt in pts]\n",
    "        cv2.polylines(frame, [np.array(pts, np.int32)], isClosed=True, color=(0,255,0), thickness=2)\n",
    "        cv2.putText(frame, barcode_data, (pts[0][0], pts[0][1]-10), cv2.FONT_HERSHEY_SIMPLEX, 0.5, (0,255,0), 2)\n",
    "\n",
    "    cv2.imshow('Lector de Código de Barras', frame)\n",
    "\n",
    "    # Presionar 'q' para salir\n",
    "    if cv2.waitKey(1) & 0xFF == ord('q'):\n",
    "        break\n",
    "\n",
    "cap.release()\n",
    "cv2.destroyAllWindows()\n"
   ]
  }
 ],
 "metadata": {
  "kernelspec": {
   "display_name": ".venv",
   "language": "python",
   "name": "python3"
  },
  "language_info": {
   "codemirror_mode": {
    "name": "ipython",
    "version": 3
   },
   "file_extension": ".py",
   "mimetype": "text/x-python",
   "name": "python",
   "nbconvert_exporter": "python",
   "pygments_lexer": "ipython3",
   "version": "3.12.10"
  }
 },
 "nbformat": 4,
 "nbformat_minor": 5
}
